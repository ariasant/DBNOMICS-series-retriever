{
 "cells": [
  {
   "attachments": {},
   "cell_type": "markdown",
   "metadata": {},
   "source": [
    "# DBNOMICS DATA WITH PYTHON#"
   ]
  },
  {
   "cell_type": "markdown",
   "metadata": {},
   "source": [
    "Author: Andrea Sante\n",
    "Last Modified: 05/10/2022\n",
    "\n",
    "This small piece of code downloads and reads-in economic data from the DBnomics database. \n",
    "The program returns a csv file containing the data of interest.\n"
   ]
  },
  {
   "cell_type": "code",
   "execution_count": 1,
   "metadata": {},
   "outputs": [
    {
     "name": "stdout",
     "output_type": "stream",
     "text": [
      "Requirement already satisfied: jsonlines in d:\\anaconda\\lib\\site-packages (3.1.0)\n",
      "Requirement already satisfied: typing-extensions in d:\\anaconda\\lib\\site-packages (from jsonlines) (3.10.0.2)\n",
      "Requirement already satisfied: attrs>=19.2.0 in d:\\anaconda\\lib\\site-packages (from jsonlines) (19.2.0)\n",
      "Note: you may need to restart the kernel to use updated packages.\n"
     ]
    },
    {
     "name": "stderr",
     "output_type": "stream",
     "text": [
      "WARNING: Ignoring invalid distribution -ip (d:\\anaconda\\lib\\site-packages)\n",
      "WARNING: Ignoring invalid distribution -ip (d:\\anaconda\\lib\\site-packages)\n",
      "WARNING: Ignoring invalid distribution -ip (d:\\anaconda\\lib\\site-packages)\n",
      "WARNING: Ignoring invalid distribution -ip (d:\\anaconda\\lib\\site-packages)\n",
      "WARNING: Ignoring invalid distribution -ip (d:\\anaconda\\lib\\site-packages)\n",
      "WARNING: Ignoring invalid distribution -ip (d:\\anaconda\\lib\\site-packages)\n"
     ]
    },
    {
     "name": "stdout",
     "output_type": "stream",
     "text": [
      "Note: you may need to restart the kernel to use updated packages.\n"
     ]
    },
    {
     "name": "stderr",
     "output_type": "stream",
     "text": [
      "WARNING: Ignoring invalid distribution -ip (d:\\anaconda\\lib\\site-packages)\n",
      "WARNING: Ignoring invalid distribution -ip (d:\\anaconda\\lib\\site-packages)\n",
      "ERROR: Could not find a version that satisfies the requirement csv (from versions: none)\n",
      "ERROR: No matching distribution found for csv\n",
      "WARNING: Ignoring invalid distribution -ip (d:\\anaconda\\lib\\site-packages)\n",
      "WARNING: Ignoring invalid distribution -ip (d:\\anaconda\\lib\\site-packages)\n",
      "WARNING: Ignoring invalid distribution -ip (d:\\anaconda\\lib\\site-packages)\n"
     ]
    },
    {
     "name": "stdout",
     "output_type": "stream",
     "text": [
      "Requirement already satisfied: requests in d:\\anaconda\\lib\\site-packages (2.27.1)\n",
      "Requirement already satisfied: urllib3<1.27,>=1.21.1 in d:\\anaconda\\lib\\site-packages (from requests) (1.24.2)\n",
      "Requirement already satisfied: certifi>=2017.4.17 in d:\\anaconda\\lib\\site-packages (from requests) (2019.9.11)\n",
      "Requirement already satisfied: idna<4,>=2.5 in d:\\anaconda\\lib\\site-packages (from requests) (2.8)\n",
      "Requirement already satisfied: charset-normalizer~=2.0.0 in d:\\anaconda\\lib\\site-packages (from requests) (2.0.12)\n",
      "Note: you may need to restart the kernel to use updated packages.\n"
     ]
    },
    {
     "name": "stderr",
     "output_type": "stream",
     "text": [
      "WARNING: Ignoring invalid distribution -ip (d:\\anaconda\\lib\\site-packages)\n",
      "WARNING: Ignoring invalid distribution -ip (d:\\anaconda\\lib\\site-packages)\n",
      "WARNING: Ignoring invalid distribution -ip (d:\\anaconda\\lib\\site-packages)\n",
      "WARNING: Ignoring invalid distribution -ip (d:\\anaconda\\lib\\site-packages)\n",
      "WARNING: Ignoring invalid distribution -ip (d:\\anaconda\\lib\\site-packages)\n",
      "WARNING: Ignoring invalid distribution -ip (d:\\anaconda\\lib\\site-packages)\n"
     ]
    }
   ],
   "source": [
    "#Install Python package \n",
    "%pip install jsonlines  \n",
    "%pip install csv\n",
    "%pip install requests\n",
    "\n",
    "import requests\n",
    "import jsonlines\n",
    "import csv"
   ]
  },
  {
   "cell_type": "code",
   "execution_count": 14,
   "metadata": {},
   "outputs": [],
   "source": [
    "def select_series(JSON_VALUE):\n",
    "    \"\"\"\n",
    "    Select series of interest ensuring they can be analysed properly.\n",
    "    Return 'True' for the selected series.\n",
    "    \"\"\"\n",
    "    keys_of_interest = ['series_id', 'name', 'units', 'lastHistoricalPeriod', 'data']\n",
    "    boolean = False\n",
    "\n",
    "    #Check that dictionary keys are in JSON file\n",
    "    for key in keys_of_interest:\n",
    "        if key in list(JSON_VALUE.keys()):\n",
    "            boolean += True\n",
    "    \n",
    "    #If all the keys are in the dictionary\n",
    "    if boolean==5:\n",
    "        boolean = True\n",
    "        \n",
    "        #Select only data beginning with \"REFERENCE.\" from 2021\n",
    "        if \"IEO.2021.REFERENCE\" in JSON_VALUE['series_id']:\n",
    "            boolean = True\n",
    "        else:\n",
    "            boolean = False\n",
    "            \n",
    "    #In case only some of the keys are present\n",
    "    else:\n",
    "        boolean = False\n",
    "    \n",
    "    return boolean       \n",
    "\n",
    "def format_series_id(series_id):\n",
    "    \"\"\"\n",
    "    Remove beginning of id name of the series (i.e. 'IEO.2021.REFERENCE.')\n",
    "    \"\"\"\n",
    "    \n",
    "    return series_id[19::]\n",
    "\n",
    "def extract_values(series):\n",
    "    \"\"\"\n",
    "    Separate values from periods in series\n",
    "    \"\"\"\n",
    "    values = []\n",
    "    \n",
    "    for data_pair in series:\n",
    "        values.append(data_pair[1])\n",
    "    \n",
    "    return list(reversed(values))"
   ]
  },
  {
   "cell_type": "code",
   "execution_count": 15,
   "metadata": {},
   "outputs": [
    {
     "data": {
      "text/plain": [
       "19058614"
      ]
     },
     "execution_count": 15,
     "metadata": {},
     "output_type": "execute_result"
    }
   ],
   "source": [
    "#Download dataset from url using requests library\n",
    "url = 'https://git.nomics.world/dbnomics-source-data/eia-source-data/-/raw/master/IEO.txt'\n",
    "r = requests.get(url, allow_redirects=True)\n",
    "\n",
    "#Create a .jsonl file containing the downloaded data\n",
    "open('dataset.jsonl', 'wb').write(r.content)"
   ]
  },
  {
   "cell_type": "code",
   "execution_count": 16,
   "metadata": {},
   "outputs": [],
   "source": [
    "#The dataset is in a .jsonl format which contains one valid JSON value per line.\n",
    "\n",
    "#Use jsonlines library to read in file\n",
    "datafile = jsonlines.open('dataset.jsonl')\n",
    "\n",
    "#Open .csv file where the data will be collected\n",
    "file = open('output.csv', 'w', newline='')\n",
    "writer = csv.writer(file)\n",
    "\n",
    "#Write header\n",
    "years = []\n",
    "for i in range(2010,2051):\n",
    "    years.append(str(i))\n",
    "header = ['Series ID', 'Series Name', 'Units', 'Last Historical Update'] + years\n",
    "\n",
    "writer.writerow(header)\n",
    "\n",
    "#Iterate over each JSON value in the file.\n",
    "for JSON_VALUE in datafile: \n",
    "    \n",
    "    if select_series(JSON_VALUE):\n",
    "        #Extract series id \n",
    "        series_id = format_series_id(JSON_VALUE['series_id'])\n",
    "        #Extract series name\n",
    "        series_name = JSON_VALUE['name']\n",
    "        #Extract units\n",
    "        series_units = JSON_VALUE['units']\n",
    "        #Extract last historical update for the series\n",
    "        lasthistoricalperiods = JSON_VALUE['lastHistoricalPeriod']\n",
    "        #Extract data for the series \n",
    "        values = extract_values(JSON_VALUE['data'])\n",
    "        \n",
    "        writer.writerow([series_id, series_name, series_units, lasthistoricalperiods]+values)\n",
    "\n",
    "file.close()"
   ]
  },
  {
   "cell_type": "code",
   "execution_count": null,
   "metadata": {},
   "outputs": [],
   "source": []
  }
 ],
 "metadata": {
  "kernelspec": {
   "display_name": "Python 3",
   "language": "python",
   "name": "python3"
  },
  "language_info": {
   "codemirror_mode": {
    "name": "ipython",
    "version": 3
   },
   "file_extension": ".py",
   "mimetype": "text/x-python",
   "name": "python",
   "nbconvert_exporter": "python",
   "pygments_lexer": "ipython3",
   "version": "3.7.4"
  }
 },
 "nbformat": 4,
 "nbformat_minor": 2
}
